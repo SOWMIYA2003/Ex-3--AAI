{
 "cells": [
  {
   "cell_type": "code",
   "execution_count": null,
   "metadata": {},
   "outputs": [],
   "source": [
    "from pgmpy.models import BayesianNetwork\n",
    "from pgmpy.factors.discrete import TabularCPD\n",
    "from pgmpy.sampling import GibbsSampling\n"
   ]
  },
  {
   "cell_type": "code",
   "execution_count": null,
   "metadata": {},
   "outputs": [],
   "source": [
    "# Define the Bayesian network structure\n",
    "network = BayesianNetwork([('Burglary', 'Alarm'),\n",
    "                           ('Earthquake', 'Alarm'),\n",
    "                           ('Alarm', 'JohnCalls'),\n",
    "                           ('Alarm', 'MaryCalls')])\n"
   ]
  },
  {
   "cell_type": "code",
   "execution_count": null,
   "metadata": {},
   "outputs": [],
   "source": [
    "#Define the Conditional Probability Distributions (CPDs)\n",
    "cpd_burglary = TabularCPD(variable='Burglary', variable_card=2, values=[[0.999], [0.001]])\n",
    "cpd_earthquake = TabularCPD(variable='Earthquake', variable_card=2, values=[[0.998], [0.002]])\n",
    "cpd_alarm = TabularCPD(variable='Alarm', variable_card=2,                      values=[[0.999, 0.71, 0.06, 0.05],                               [0.001, 0.29, 0.94, 0.95]],                       evidence=['Burglary', 'Earthquake'], evidence_card=[2, 2])\n",
    "cpd_john_calls = TabularCPD(variable='JohnCalls', variable_card=2,                           values=[[0.95, 0.1], [0.05, 0.9]],                            evidence=['Alarm'], evidence_card=[2])\n",
    "cpd_mary_calls = TabularCPD(variable='MaryCalls', variable_card=2,                          values=[[0.99, 0.3], [0.01, 0.7]],                            evidence=['Alarm'], evidence_card=[2])\n"
   ]
  },
  {
   "cell_type": "code",
   "execution_count": null,
   "metadata": {},
   "outputs": [],
   "source": [
    "# Add CPDs to the network\n",
    "network.add_cpds (cpd_burglary, cpd_earthquake, cpd_alarm, cpd_john_calls, cpd_mary_calls)\n",
    "\n"
   ]
  },
  {
   "cell_type": "code",
   "execution_count": null,
   "metadata": {},
   "outputs": [],
   "source": [
    "# Print the Bayesian network structure\n",
    "print(\"Bayesian Network Structure: \") \n",
    "print (network)"
   ]
  },
  {
   "cell_type": "code",
   "execution_count": null,
   "metadata": {},
   "outputs": [],
   "source": [
    "# Draw the graph\n",
    "!pip install nx\n",
    "import networkx as nx\n",
    "# Create a directed graph \n",
    "G = nx.DiGraph ()\n",
    "# Define nodes and edges\n",
    "nodes = ['Burglary', 'Earthquake', 'Alarm','JohnCalls','MaryCalls']\n",
    "edges = [('Burglary', 'Alarm'), ('Earthquake', 'Alarm'),('Alarm', 'JohnCalls'), ('Alarm','MaryCalls')]\n",
    "# Add nodes and edges to the graph\n",
    "G.add_nodes_from (nodes)\n",
    "G.add_edges_from (edges)\n",
    "\n",
    "# Set positions for nodes (optional)\n",
    "pos = {\n",
    "    'Burglary': (0, 0),\n",
    "    'Earthquake':(2, 0),\n",
    "    'Alarm' : (1, -2),\n",
    "    'JohnCalls': (0, -4),\n",
    "    'MaryCalls' : (2, 4)\n",
    "}\n",
    "# Draw the graph\n",
    "nx.draw(G, pos, with_labels=True, node_size=1500,node_color='skyblue', font_size=10,font_weight='bold', arrowsize=20)\n",
    "import matplotlib.pyplot as plt\n",
    "plt.title(\"Bayesian Network: Alarm Problem\")\n",
    "plt.show()"
   ]
  },
  {
   "cell_type": "code",
   "execution_count": null,
   "metadata": {},
   "outputs": [],
   "source": [
    "# Initialize Gibbs Sampling for MCMC\n",
    "\n",
    "gibbs_sampler = GibbsSampling (network)\n"
   ]
  },
  {
   "cell_type": "code",
   "execution_count": null,
   "metadata": {},
   "outputs": [],
   "source": [
    "# Set the number of samples\n",
    "num_samples = 10000\n"
   ]
  },
  {
   "cell_type": "code",
   "execution_count": null,
   "metadata": {},
   "outputs": [],
   "source": [
    "# Perform MCMC sampling\n",
    "samples = gibbs_sampler.sample (size=num_samples)"
   ]
  },
  {
   "cell_type": "code",
   "execution_count": null,
   "metadata": {},
   "outputs": [],
   "source": [
    "# Calculate approximate probabilities based on the samples\n",
    "\n",
    "query_variable = 'Burglary'\n",
    "query_result = samples [query_variable].value_counts (normalize=True)"
   ]
  },
  {
   "cell_type": "code",
   "execution_count": null,
   "metadata": {},
   "outputs": [],
   "source": [
    "# Print the approximate probabilities\n",
    "print(\"\\nApproximate Probabilities of {}:\".format (query_variable))\n",
    "print (query_result)"
   ]
  }
 ],
 "metadata": {
  "kernelspec": {
   "display_name": "Python 3",
   "language": "python",
   "name": "python3"
  },
  "language_info": {
   "name": "python",
   "version": "3.10.6"
  }
 },
 "nbformat": 4,
 "nbformat_minor": 2
}
